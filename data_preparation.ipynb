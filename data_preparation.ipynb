{
 "cells": [
  {
   "cell_type": "markdown",
   "source": [
    "### Libraries"
   ],
   "metadata": {
    "collapsed": false
   }
  },
  {
   "cell_type": "code",
   "execution_count": 186,
   "outputs": [],
   "source": [
    "import pandas as pd\n",
    "import matplotlib.pyplot as plt\n",
    "import numpy as np\n",
    "import seaborn as sns"
   ],
   "metadata": {
    "collapsed": false,
    "ExecuteTime": {
     "end_time": "2023-12-11T16:46:30.793845Z",
     "start_time": "2023-12-11T16:46:30.786664Z"
    }
   }
  },
  {
   "cell_type": "markdown",
   "source": [
    "### Loading Data"
   ],
   "metadata": {
    "collapsed": false
   }
  },
  {
   "cell_type": "code",
   "execution_count": 161,
   "outputs": [],
   "source": [
    "df = pd.read_csv('./data.csv')"
   ],
   "metadata": {
    "collapsed": false,
    "ExecuteTime": {
     "end_time": "2023-12-11T16:41:17.562195Z",
     "start_time": "2023-12-11T16:41:16.819814Z"
    }
   }
  },
  {
   "cell_type": "code",
   "execution_count": 162,
   "outputs": [
    {
     "data": {
      "text/plain": "   Unnamed: 0       brand              model  color registration_date  year  \\\n0           0  alfa-romeo     Alfa Romeo GTV    red           10/1995  1995   \n1           1  alfa-romeo     Alfa Romeo 164  black           02/1995  1995   \n2           2  alfa-romeo  Alfa Romeo Spider  black           02/1995  1995   \n3           3  alfa-romeo  Alfa Romeo Spider  black           07/1995  1995   \n4           4  alfa-romeo     Alfa Romeo 164    red           11/1996  1996   \n\n  price_in_euro power_kw power_ps transmission_type fuel_type  \\\n0          1300      148      201            Manual    Petrol   \n1         24900      191      260            Manual    Petrol   \n2          5900      110      150           Unknown    Petrol   \n3          4900      110      150            Manual    Petrol   \n4         17950      132      179            Manual    Petrol   \n\n  fuel_consumption_l_100km fuel_consumption_g_km  mileage_in_km  \\\n0            10,9 l/100 km              260 g/km       160500.0   \n1                      NaN              - (g/km)       190000.0   \n2                      NaN              - (g/km)       129000.0   \n3             9,5 l/100 km              225 g/km       189500.0   \n4             7,2 l/100 km              - (g/km)        96127.0   \n\n                       offer_description  \n0                              2.0 V6 TB  \n1                    Q4 Allrad, 3.2L GTA  \n2                          ALFA ROME 916  \n3                   2.0 16V Twin Spark L  \n4  3.0i Super V6, absoluter Topzustand !  ",
      "text/html": "<div>\n<style scoped>\n    .dataframe tbody tr th:only-of-type {\n        vertical-align: middle;\n    }\n\n    .dataframe tbody tr th {\n        vertical-align: top;\n    }\n\n    .dataframe thead th {\n        text-align: right;\n    }\n</style>\n<table border=\"1\" class=\"dataframe\">\n  <thead>\n    <tr style=\"text-align: right;\">\n      <th></th>\n      <th>Unnamed: 0</th>\n      <th>brand</th>\n      <th>model</th>\n      <th>color</th>\n      <th>registration_date</th>\n      <th>year</th>\n      <th>price_in_euro</th>\n      <th>power_kw</th>\n      <th>power_ps</th>\n      <th>transmission_type</th>\n      <th>fuel_type</th>\n      <th>fuel_consumption_l_100km</th>\n      <th>fuel_consumption_g_km</th>\n      <th>mileage_in_km</th>\n      <th>offer_description</th>\n    </tr>\n  </thead>\n  <tbody>\n    <tr>\n      <th>0</th>\n      <td>0</td>\n      <td>alfa-romeo</td>\n      <td>Alfa Romeo GTV</td>\n      <td>red</td>\n      <td>10/1995</td>\n      <td>1995</td>\n      <td>1300</td>\n      <td>148</td>\n      <td>201</td>\n      <td>Manual</td>\n      <td>Petrol</td>\n      <td>10,9 l/100 km</td>\n      <td>260 g/km</td>\n      <td>160500.0</td>\n      <td>2.0 V6 TB</td>\n    </tr>\n    <tr>\n      <th>1</th>\n      <td>1</td>\n      <td>alfa-romeo</td>\n      <td>Alfa Romeo 164</td>\n      <td>black</td>\n      <td>02/1995</td>\n      <td>1995</td>\n      <td>24900</td>\n      <td>191</td>\n      <td>260</td>\n      <td>Manual</td>\n      <td>Petrol</td>\n      <td>NaN</td>\n      <td>- (g/km)</td>\n      <td>190000.0</td>\n      <td>Q4 Allrad, 3.2L GTA</td>\n    </tr>\n    <tr>\n      <th>2</th>\n      <td>2</td>\n      <td>alfa-romeo</td>\n      <td>Alfa Romeo Spider</td>\n      <td>black</td>\n      <td>02/1995</td>\n      <td>1995</td>\n      <td>5900</td>\n      <td>110</td>\n      <td>150</td>\n      <td>Unknown</td>\n      <td>Petrol</td>\n      <td>NaN</td>\n      <td>- (g/km)</td>\n      <td>129000.0</td>\n      <td>ALFA ROME 916</td>\n    </tr>\n    <tr>\n      <th>3</th>\n      <td>3</td>\n      <td>alfa-romeo</td>\n      <td>Alfa Romeo Spider</td>\n      <td>black</td>\n      <td>07/1995</td>\n      <td>1995</td>\n      <td>4900</td>\n      <td>110</td>\n      <td>150</td>\n      <td>Manual</td>\n      <td>Petrol</td>\n      <td>9,5 l/100 km</td>\n      <td>225 g/km</td>\n      <td>189500.0</td>\n      <td>2.0 16V Twin Spark L</td>\n    </tr>\n    <tr>\n      <th>4</th>\n      <td>4</td>\n      <td>alfa-romeo</td>\n      <td>Alfa Romeo 164</td>\n      <td>red</td>\n      <td>11/1996</td>\n      <td>1996</td>\n      <td>17950</td>\n      <td>132</td>\n      <td>179</td>\n      <td>Manual</td>\n      <td>Petrol</td>\n      <td>7,2 l/100 km</td>\n      <td>- (g/km)</td>\n      <td>96127.0</td>\n      <td>3.0i Super V6, absoluter Topzustand !</td>\n    </tr>\n  </tbody>\n</table>\n</div>"
     },
     "execution_count": 162,
     "metadata": {},
     "output_type": "execute_result"
    }
   ],
   "source": [
    "df.head(5)"
   ],
   "metadata": {
    "collapsed": false,
    "ExecuteTime": {
     "end_time": "2023-12-11T16:41:17.599196Z",
     "start_time": "2023-12-11T16:41:17.577100Z"
    }
   }
  },
  {
   "cell_type": "code",
   "execution_count": 163,
   "outputs": [
    {
     "name": "stdout",
     "output_type": "stream",
     "text": [
      "<class 'pandas.core.frame.DataFrame'>\n",
      "RangeIndex: 251079 entries, 0 to 251078\n",
      "Data columns (total 15 columns):\n",
      " #   Column                    Non-Null Count   Dtype  \n",
      "---  ------                    --------------   -----  \n",
      " 0   Unnamed: 0                251079 non-null  int64  \n",
      " 1   brand                     251079 non-null  object \n",
      " 2   model                     251079 non-null  object \n",
      " 3   color                     250913 non-null  object \n",
      " 4   registration_date         251075 non-null  object \n",
      " 5   year                      251079 non-null  object \n",
      " 6   price_in_euro             251079 non-null  object \n",
      " 7   power_kw                  250945 non-null  object \n",
      " 8   power_ps                  250950 non-null  object \n",
      " 9   transmission_type         251079 non-null  object \n",
      " 10  fuel_type                 251079 non-null  object \n",
      " 11  fuel_consumption_l_100km  224206 non-null  object \n",
      " 12  fuel_consumption_g_km     251079 non-null  object \n",
      " 13  mileage_in_km             250927 non-null  float64\n",
      " 14  offer_description         251078 non-null  object \n",
      "dtypes: float64(1), int64(1), object(13)\n",
      "memory usage: 28.7+ MB\n"
     ]
    }
   ],
   "source": [
    "df.info()"
   ],
   "metadata": {
    "collapsed": false,
    "ExecuteTime": {
     "end_time": "2023-12-11T16:41:17.835690Z",
     "start_time": "2023-12-11T16:41:17.584512Z"
    }
   }
  },
  {
   "cell_type": "code",
   "execution_count": 164,
   "outputs": [
    {
     "name": "stdout",
     "output_type": "stream",
     "text": [
      "The dataframe has 251079 rows and 15 columns\n"
     ]
    }
   ],
   "source": [
    "print(f'The dataframe has {df.shape[0]} rows and {df.shape[1]} columns')"
   ],
   "metadata": {
    "collapsed": false,
    "ExecuteTime": {
     "end_time": "2023-12-11T16:41:17.835993Z",
     "start_time": "2023-12-11T16:41:17.697206Z"
    }
   }
  },
  {
   "cell_type": "markdown",
   "source": [
    "### Data Cleaning & Understanding"
   ],
   "metadata": {
    "collapsed": false
   }
  },
  {
   "cell_type": "markdown",
   "source": [
    "#### Converting to correct type\n",
    "\n",
    "*Column Year*\n",
    "There are some string values in this column, and we are going to keep only those values that contain years."
   ],
   "metadata": {
    "collapsed": false
   }
  },
  {
   "cell_type": "code",
   "execution_count": 165,
   "outputs": [
    {
     "name": "stdout",
     "output_type": "stream",
     "text": [
      "Petrol\n",
      "Automatic\n",
      "Manual\n",
      "Diesel\n",
      "04/2017\n",
      "Electric\n",
      "12/2003\n",
      "05/2017\n",
      "04/2006\n",
      "LPG\n",
      "8.000 km\n",
      "113.000 km\n",
      "32.250 km\n",
      "02/2020\n",
      "06/2021\n",
      "07/2021\n",
      "Hybrid\n",
      "03/2023\n",
      "01/2019\n",
      "10/2010\n",
      "280.000 km\n",
      "03/2015\n",
      "10/2016\n",
      "06/2016\n",
      "80.000 km\n",
      "06/2018\n",
      "09/2018\n",
      "39.900 km\n",
      "18.990 km\n",
      "05/2023\n",
      "04/2013\n",
      "05/2015\n",
      "05/2016\n",
      "07/2018\n",
      "12/2022\n",
      "12/2020\n",
      "05/2021\n",
      "108.500 km\n",
      "11/2018\n",
      "33.150 km\n",
      "12.520 km\n",
      "15.180 km\n",
      "6.500 km\n",
      "64.500 km\n",
      "03/2019\n",
      "1.000 km\n",
      "01/2023\n",
      "02/2023\n",
      "06/2023\n",
      "11/2013\n",
      "49.000 km\n",
      "04/2023\n",
      "03/2007\n",
      "159.400 km\n",
      "217.946 km\n",
      "75.700 km\n",
      "243.431 km\n",
      "CNG\n"
     ]
    }
   ],
   "source": [
    "for i in df.year.unique().tolist():\n",
    "  if not  i.isnumeric():\n",
    "      print(i)"
   ],
   "metadata": {
    "collapsed": false,
    "ExecuteTime": {
     "end_time": "2023-12-11T16:41:18.815861Z",
     "start_time": "2023-12-11T16:41:18.800983Z"
    }
   }
  },
  {
   "cell_type": "code",
   "execution_count": 166,
   "outputs": [],
   "source": [
    "df = df[df['year'].str.isnumeric()]\n",
    "df.year = df.year.astype(int)"
   ],
   "metadata": {
    "collapsed": false,
    "ExecuteTime": {
     "end_time": "2023-12-11T16:41:19.408831Z",
     "start_time": "2023-12-11T16:41:19.305244Z"
    }
   }
  },
  {
   "cell_type": "markdown",
   "source": [
    "*Column Price in Euro*\n",
    "Same thing can be observed for the price column as well. So those rows, will be omitted."
   ],
   "metadata": {
    "collapsed": false
   }
  },
  {
   "cell_type": "code",
   "execution_count": 167,
   "outputs": [
    {
     "name": "stdout",
     "output_type": "stream",
     "text": [
      "ROSTHREI\n",
      "SHA\n",
      "PGD\n",
      " NAVI\n"
     ]
    }
   ],
   "source": [
    "for i in df.price_in_euro.unique().tolist():\n",
    "  if not  i.isnumeric():\n",
    "      print(i)"
   ],
   "metadata": {
    "collapsed": false,
    "ExecuteTime": {
     "end_time": "2023-12-11T16:41:20.015070Z",
     "start_time": "2023-12-11T16:41:19.987856Z"
    }
   }
  },
  {
   "cell_type": "code",
   "execution_count": 168,
   "outputs": [],
   "source": [
    "df = df[df['price_in_euro'].str.isnumeric()]\n",
    "df.price_in_euro = df.price_in_euro.astype(int)"
   ],
   "metadata": {
    "collapsed": false,
    "ExecuteTime": {
     "end_time": "2023-12-11T16:41:20.414995Z",
     "start_time": "2023-12-11T16:41:20.312596Z"
    }
   }
  },
  {
   "cell_type": "markdown",
   "source": [
    "*Column Power KW and Power PS*"
   ],
   "metadata": {
    "collapsed": false
   }
  },
  {
   "cell_type": "code",
   "execution_count": 169,
   "outputs": [],
   "source": [
    "df.power_kw = df.power_kw.astype(float)\n",
    "df.power_ps = df.power_ps.astype(float)"
   ],
   "metadata": {
    "collapsed": false,
    "ExecuteTime": {
     "end_time": "2023-12-11T16:41:21.277825Z",
     "start_time": "2023-12-11T16:41:21.242632Z"
    }
   }
  },
  {
   "cell_type": "markdown",
   "source": [
    "*Fuel consumption in litres/100km*"
   ],
   "metadata": {
    "collapsed": false
   }
  },
  {
   "cell_type": "code",
   "execution_count": 170,
   "outputs": [],
   "source": [
    "df['fuel_consumption_l_100km'] = df['fuel_consumption_l_100km'].map(lambda x: str(x).split(' ')[0])"
   ],
   "metadata": {
    "collapsed": false,
    "ExecuteTime": {
     "end_time": "2023-12-11T16:41:23.064216Z",
     "start_time": "2023-12-11T16:41:22.986807Z"
    }
   }
  },
  {
   "cell_type": "code",
   "execution_count": 171,
   "outputs": [],
   "source": [
    "df['fuel_consumption_l_100km'] = df.apply(\n",
    "        lambda row: float(0) if pd.isnull(row['fuel_consumption_l_100km']) & \\\n",
    "        ((row['fuel_type'] == 'Electric')  or \\\n",
    "         (row['fuel_type'] == 'Hydrogen')  or \\\n",
    "         (row['fuel_type'] == 'Ethanol')) else row['fuel_consumption_l_100km'],\n",
    "    axis = 1)"
   ],
   "metadata": {
    "collapsed": false,
    "ExecuteTime": {
     "end_time": "2023-12-11T16:41:28.322298Z",
     "start_time": "2023-12-11T16:41:24.044808Z"
    }
   }
  },
  {
   "cell_type": "code",
   "execution_count": 174,
   "outputs": [],
   "source": [
    "condition = (df['fuel_consumption_l_100km']=='-')\n",
    "df.loc[condition, 'fuel_consumption_l_100km'] = np.nan"
   ],
   "metadata": {
    "collapsed": false,
    "ExecuteTime": {
     "end_time": "2023-12-11T16:41:44.252890Z",
     "start_time": "2023-12-11T16:41:44.225671Z"
    }
   }
  },
  {
   "cell_type": "code",
   "execution_count": 176,
   "outputs": [],
   "source": [
    "df.fuel_consumption_l_100km = df.fuel_consumption_l_100km.str.replace(\",\",\".\").astype(float)"
   ],
   "metadata": {
    "collapsed": false,
    "ExecuteTime": {
     "end_time": "2023-12-11T16:42:01.939989Z",
     "start_time": "2023-12-11T16:42:01.838644Z"
    }
   }
  },
  {
   "cell_type": "markdown",
   "source": [
    "*Fuel consumption in g/ km*"
   ],
   "metadata": {
    "collapsed": false
   }
  },
  {
   "cell_type": "code",
   "execution_count": 179,
   "outputs": [],
   "source": [
    "df['fuel_consumption_g_km'] = df['fuel_consumption_g_km'].map(lambda x: str(x).split(' ')[0])\n",
    "df['fuel_consumption_g_km'] = df.apply(\n",
    "        lambda row: float(0) if pd.isnull(row['fuel_consumption_l_100km']) & \\\n",
    "        ((row['fuel_type'] == 'Electric')  or \\\n",
    "         (row['fuel_type'] == 'Hydrogen')  or \\\n",
    "         (row['fuel_type'] == 'Ethanol')) else row['fuel_consumption_l_100km'],\n",
    "    axis = 1)"
   ],
   "metadata": {
    "collapsed": false,
    "ExecuteTime": {
     "end_time": "2023-12-11T16:42:33.846250Z",
     "start_time": "2023-12-11T16:42:29.715361Z"
    }
   }
  },
  {
   "cell_type": "code",
   "execution_count": 181,
   "outputs": [],
   "source": [
    "condition = (df['fuel_consumption_g_km']=='-')\n",
    "df.loc[condition, 'fuel_consumption_g_km'] = np.nan\n",
    "df.fuel_consumption_l_100km = df.fuel_consumption_l_100km.replace(\",\",\".\").astype(float)\n"
   ],
   "metadata": {
    "collapsed": false,
    "ExecuteTime": {
     "end_time": "2023-12-11T16:42:41.868832Z",
     "start_time": "2023-12-11T16:42:41.853945Z"
    }
   }
  },
  {
   "cell_type": "code",
   "execution_count": 192,
   "outputs": [],
   "source": [
    "df.rename(columns={'Unnamed: 0': \"ID\"},inplace = True)"
   ],
   "metadata": {
    "collapsed": false,
    "ExecuteTime": {
     "end_time": "2023-12-11T16:48:21.530980Z",
     "start_time": "2023-12-11T16:48:21.526513Z"
    }
   }
  },
  {
   "cell_type": "markdown",
   "source": [
    "*Registration Date* - Dropping this column since it contains same values as the Year column"
   ],
   "metadata": {
    "collapsed": false
   }
  },
  {
   "cell_type": "code",
   "execution_count": 182,
   "outputs": [],
   "source": [
    "df.drop(columns = 'registration_date',inplace = True)"
   ],
   "metadata": {
    "collapsed": false,
    "ExecuteTime": {
     "end_time": "2023-12-11T16:43:41.143344Z",
     "start_time": "2023-12-11T16:43:41.139543Z"
    }
   }
  },
  {
   "cell_type": "code",
   "execution_count": 195,
   "outputs": [
    {
     "data": {
      "text/plain": "<Figure size 800x500 with 2 Axes>",
      "image/png": "[encoded data removed]"
     },
     "metadata": {},
     "output_type": "display_data"
    }
   ],
   "source": [
    "corr = df.loc[:, ~df.columns.isin(['ID','brand', 'model', 'color', 'transmission_type','fuel_type','offer_description'])].corr(numeric_only=True)\n",
    "mask = np.triu(np.ones_like(corr, dtype=bool))\n",
    "f, ax = plt.subplots(figsize=(8, 5))\n",
    "cmap = sns.diverging_palette(230, 20, as_cmap=True)\n",
    "sns.heatmap(corr, mask=mask, cmap=cmap, vmax=1, vmin=-1, center=0,\n",
    "            square=True, linewidths=.5, cbar_kws={\"shrink\": .5})\n",
    "plt.title(\"Correlation matrix\")\n",
    "plt.show()"
   ],
   "metadata": {
    "collapsed": false,
    "ExecuteTime": {
     "end_time": "2023-12-11T16:48:40.380559Z",
     "start_time": "2023-12-11T16:48:40.114643Z"
    }
   }
  },
  {
   "cell_type": "code",
   "execution_count": 196,
   "outputs": [],
   "source": [
    "# def creating_box_hist(column, df):\n",
    "#     # creating a figure composed of two matplotlib.Axes objects (ax_box and ax_hist)\n",
    "#     f, (ax_box, ax_dis) = plt.subplots(nrows=2,sharex=True,gridspec_kw = {\"height_ratios\": (.20, .80)},figsize=(8, 5))\n",
    "#     mean=df[column].mean()\n",
    "#     median=df[column].median()\n",
    "#     mode=df[column].mode().tolist()[0]\n",
    "#\n",
    "#     f.suptitle(\"Data distribution of  \"+ column  , fontsize=10, fontweight='bold')\n",
    "#     # assigning a graph to each ax\n",
    "#\n",
    "#     sns.boxplot(df[column], ax=ax_box,orient = 'h',showmeans = True)\n",
    "#\n",
    "#     sns.despine(top=True,right=True,left=True)\n",
    "#     sns.histplot(df[column],kde=False,ax=ax_dis)\n",
    "#     ax_dis.axvline(mean, color='r', linestyle='--',linewidth=2)\n",
    "#     ax_dis.axvline(median, color='g', linestyle='-',linewidth=2)\n",
    "#     ax_dis.axvline(mode, color='y', linestyle='-',linewidth=2)\n",
    "#     plt.legend({'Mean':mean,'Median':median,'Mode':mode})"
   ],
   "metadata": {
    "collapsed": false,
    "ExecuteTime": {
     "end_time": "2023-12-11T16:48:59.421896Z",
     "start_time": "2023-12-11T16:48:59.383039Z"
    }
   }
  },
  {
   "cell_type": "code",
   "execution_count": null,
   "outputs": [],
   "source": [],
   "metadata": {
    "collapsed": false
   }
  }
 ],
 "metadata": {
  "kernelspec": {
   "display_name": "Python 3",
   "language": "python",
   "name": "python3"
  },
  "language_info": {
   "codemirror_mode": {
    "name": "ipython",
    "version": 2
   },
   "file_extension": ".py",
   "mimetype": "text/x-python",
   "name": "python",
   "nbconvert_exporter": "python",
   "pygments_lexer": "ipython2",
   "version": "2.7.6"
  }
 },
 "nbformat": 4,
 "nbformat_minor": 0
}
