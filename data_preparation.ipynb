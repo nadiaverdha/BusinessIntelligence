{
 "cells": [
  {
   "cell_type": "markdown",
   "source": [
    "### Libraries"
   ],
   "metadata": {
    "collapsed": false
   }
  },
  {
   "cell_type": "code",
   "execution_count": 1,
   "outputs": [],
   "source": [
    "import pandas as pd\n",
    "import matplotlib as plt\n",
    "import numpy as np\n"
   ],
   "metadata": {
    "collapsed": false,
    "ExecuteTime": {
     "end_time": "2023-12-10T17:08:00.090433Z",
     "start_time": "2023-12-10T17:07:58.915416Z"
    }
   }
  },
  {
   "cell_type": "markdown",
   "source": [
    "### Loading Data"
   ],
   "metadata": {
    "collapsed": false
   }
  },
  {
   "cell_type": "code",
   "execution_count": 2,
   "outputs": [],
   "source": [
    "df = pd.read_csv('./immo_data.csv')"
   ],
   "metadata": {
    "collapsed": false,
    "ExecuteTime": {
     "end_time": "2023-12-10T17:08:28.098037Z",
     "start_time": "2023-12-10T17:08:23.453295Z"
    }
   }
  },
  {
   "cell_type": "code",
   "execution_count": 3,
   "outputs": [
    {
     "data": {
      "text/plain": "                     regio1  serviceCharge                     heatingType  \\\n0       Nordrhein_Westfalen         245.00                 central_heating   \n1           Rheinland_Pfalz         134.00  self_contained_central_heating   \n2                   Sachsen         255.00                   floor_heating   \n3                   Sachsen          58.15                district_heating   \n4                    Bremen         138.00  self_contained_central_heating   \n...                     ...            ...                             ...   \n268845               Bayern          90.00                       heat_pump   \n268846               Hessen         220.00                     gas_heating   \n268847               Hessen         220.00                 central_heating   \n268848  Nordrhein_Westfalen         175.00                       heat_pump   \n268849               Hessen         315.00                 central_heating   \n\n       telekomTvOffer  telekomHybridUploadSpeed  newlyConst  balcony  \\\n0       ONE_YEAR_FREE                       NaN       False    False   \n1       ONE_YEAR_FREE                       NaN       False     True   \n2       ONE_YEAR_FREE                      10.0        True     True   \n3       ONE_YEAR_FREE                       NaN       False     True   \n4                 NaN                       NaN       False     True   \n...               ...                       ...         ...      ...   \n268845  ONE_YEAR_FREE                       NaN       False     True   \n268846            NaN                       NaN       False     True   \n268847  ONE_YEAR_FREE                       NaN       False     True   \n268848            NaN                       NaN        True     True   \n268849            NaN                       NaN       False     True   \n\n        picturecount  pricetrend  telekomUploadSpeed  ...  \\\n0                  6        4.62                10.0  ...   \n1                  8        3.47                10.0  ...   \n2                  8        2.72                 2.4  ...   \n3                  9        1.53                40.0  ...   \n4                 19        2.46                 NaN  ...   \n...              ...         ...                 ...  ...   \n268845             0        2.74                10.0  ...   \n268846            12        6.49                 NaN  ...   \n268847            21        2.90                40.0  ...   \n268848            16        4.39                 NaN  ...   \n268849             9        5.00                 NaN  ...   \n\n                         regio2                      regio3  \\\n0                      Dortmund                     Schüren   \n1             Rhein_Pfalz_Kreis              Böhl_Iggelheim   \n2                       Dresden  Äußere_Neustadt_Antonstadt   \n3           Mittelsachsen_Kreis                    Freiberg   \n4                        Bremen           Neu_Schwachhausen   \n...                         ...                         ...   \n268845  Weilheim_Schongau_Kreis                    Eberfing   \n268846         Bergstraße_Kreis                   Viernheim   \n268847   Limburg_Weilburg_Kreis         Limburg_an_der_Lahn   \n268848                     Köln                   Dellbrück   \n268849        Frankfurt_am_Main                  Sossenheim   \n\n                                              description  \\\n0       Die ebenerdig zu erreichende Erdgeschosswohnun...   \n1       Alles neu macht der Mai – so kann es auch für ...   \n2       Der Neubau entsteht im Herzen der Dresdner Neu...   \n3       Abseits von Lärm und Abgasen in Ihre neue Wohn...   \n4       Es handelt sich hier um ein saniertes Mehrfami...   \n...                                                   ...   \n268845  Diese schöne, neuwertige Wohnung im Dachgescho...   \n268846  Hier wird eine Wohnung im 2 Familienhaus angeb...   \n268847  gemütliche 4-Zimmer-Wohnung im Obergeschoss ei...   \n268848  Neubau Erstbezug, gehobener Standard, alle Ein...   \n268849  Schöne, helle, gut geschnittene und teilmöblie...   \n\n                                               facilities heatingCosts  \\\n0       Die Wohnung ist mit Laminat ausgelegt. Das Bad...          NaN   \n1                                                     NaN          NaN   \n2       * 9 m² Balkon\\n* Bad mit bodengleicher Dusche,...          NaN   \n3                                                     NaN        87.23   \n4       Diese Wohnung wurde neu saniert und ist wie fo...          NaN   \n...                                                   ...          ...   \n268845         Fliesen und Parkett. Sichtbarer Dachstuhl.          NaN   \n268846  Parkett, Kamin, Badewanne&Dusche\\nGroßer Balko...          NaN   \n268847  Böden: Wohn-/Schlafbereich = Laminat, Küche + ...          NaN   \n268848  Wände:\\nMaler­vlies, weiß gestrichen alter­nat...        40.00   \n268849  Balkon, Keller, Fahrstuhl, Vollbad, Einbauküch...          NaN   \n\n        energyEfficiencyClass lastRefurbish  electricityBasePrice  \\\n0                         NaN           NaN                   NaN   \n1                         NaN        2019.0                   NaN   \n2                         NaN           NaN                   NaN   \n3                         NaN           NaN                   NaN   \n4                         NaN           NaN                   NaN   \n...                       ...           ...                   ...   \n268845                    NaN           NaN                   NaN   \n268846                    NaN        2015.0                   NaN   \n268847                    NaN        2019.0                   NaN   \n268848         NO_INFORMATION        2019.0                   NaN   \n268849                    NaN           NaN                   NaN   \n\n        electricityKwhPrice   date  \n0                       NaN  May19  \n1                       NaN  May19  \n2                       NaN  Oct19  \n3                       NaN  May19  \n4                       NaN  Feb20  \n...                     ...    ...  \n268845                  NaN  Feb20  \n268846                  NaN  May19  \n268847                  NaN  Feb20  \n268848                  NaN  May19  \n268849                  NaN  Feb20  \n\n[268850 rows x 49 columns]",
      "text/html": "<div>\n<style scoped>\n    .dataframe tbody tr th:only-of-type {\n        vertical-align: middle;\n    }\n\n    .dataframe tbody tr th {\n        vertical-align: top;\n    }\n\n    .dataframe thead th {\n        text-align: right;\n    }\n</style>\n<table border=\"1\" class=\"dataframe\">\n  <thead>\n    <tr style=\"text-align: right;\">\n      <th></th>\n      <th>regio1</th>\n      <th>serviceCharge</th>\n      <th>heatingType</th>\n      <th>telekomTvOffer</th>\n      <th>telekomHybridUploadSpeed</th>\n      <th>newlyConst</th>\n      <th>balcony</th>\n      <th>picturecount</th>\n      <th>pricetrend</th>\n      <th>telekomUploadSpeed</th>\n      <th>...</th>\n      <th>regio2</th>\n      <th>regio3</th>\n      <th>description</th>\n      <th>facilities</th>\n      <th>heatingCosts</th>\n      <th>energyEfficiencyClass</th>\n      <th>lastRefurbish</th>\n      <th>electricityBasePrice</th>\n      <th>electricityKwhPrice</th>\n      <th>date</th>\n    </tr>\n  </thead>\n  <tbody>\n    <tr>\n      <th>0</th>\n      <td>Nordrhein_Westfalen</td>\n      <td>245.00</td>\n      <td>central_heating</td>\n      <td>ONE_YEAR_FREE</td>\n      <td>NaN</td>\n      <td>False</td>\n      <td>False</td>\n      <td>6</td>\n      <td>4.62</td>\n      <td>10.0</td>\n      <td>...</td>\n      <td>Dortmund</td>\n      <td>Schüren</td>\n      <td>Die ebenerdig zu erreichende Erdgeschosswohnun...</td>\n      <td>Die Wohnung ist mit Laminat ausgelegt. Das Bad...</td>\n      <td>NaN</td>\n      <td>NaN</td>\n      <td>NaN</td>\n      <td>NaN</td>\n      <td>NaN</td>\n      <td>May19</td>\n    </tr>\n    <tr>\n      <th>1</th>\n      <td>Rheinland_Pfalz</td>\n      <td>134.00</td>\n      <td>self_contained_central_heating</td>\n      <td>ONE_YEAR_FREE</td>\n      <td>NaN</td>\n      <td>False</td>\n      <td>True</td>\n      <td>8</td>\n      <td>3.47</td>\n      <td>10.0</td>\n      <td>...</td>\n      <td>Rhein_Pfalz_Kreis</td>\n      <td>Böhl_Iggelheim</td>\n      <td>Alles neu macht der Mai – so kann es auch für ...</td>\n      <td>NaN</td>\n      <td>NaN</td>\n      <td>NaN</td>\n      <td>2019.0</td>\n      <td>NaN</td>\n      <td>NaN</td>\n      <td>May19</td>\n    </tr>\n    <tr>\n      <th>2</th>\n      <td>Sachsen</td>\n      <td>255.00</td>\n      <td>floor_heating</td>\n      <td>ONE_YEAR_FREE</td>\n      <td>10.0</td>\n      <td>True</td>\n      <td>True</td>\n      <td>8</td>\n      <td>2.72</td>\n      <td>2.4</td>\n      <td>...</td>\n      <td>Dresden</td>\n      <td>Äußere_Neustadt_Antonstadt</td>\n      <td>Der Neubau entsteht im Herzen der Dresdner Neu...</td>\n      <td>* 9 m² Balkon\\n* Bad mit bodengleicher Dusche,...</td>\n      <td>NaN</td>\n      <td>NaN</td>\n      <td>NaN</td>\n      <td>NaN</td>\n      <td>NaN</td>\n      <td>Oct19</td>\n    </tr>\n    <tr>\n      <th>3</th>\n      <td>Sachsen</td>\n      <td>58.15</td>\n      <td>district_heating</td>\n      <td>ONE_YEAR_FREE</td>\n      <td>NaN</td>\n      <td>False</td>\n      <td>True</td>\n      <td>9</td>\n      <td>1.53</td>\n      <td>40.0</td>\n      <td>...</td>\n      <td>Mittelsachsen_Kreis</td>\n      <td>Freiberg</td>\n      <td>Abseits von Lärm und Abgasen in Ihre neue Wohn...</td>\n      <td>NaN</td>\n      <td>87.23</td>\n      <td>NaN</td>\n      <td>NaN</td>\n      <td>NaN</td>\n      <td>NaN</td>\n      <td>May19</td>\n    </tr>\n    <tr>\n      <th>4</th>\n      <td>Bremen</td>\n      <td>138.00</td>\n      <td>self_contained_central_heating</td>\n      <td>NaN</td>\n      <td>NaN</td>\n      <td>False</td>\n      <td>True</td>\n      <td>19</td>\n      <td>2.46</td>\n      <td>NaN</td>\n      <td>...</td>\n      <td>Bremen</td>\n      <td>Neu_Schwachhausen</td>\n      <td>Es handelt sich hier um ein saniertes Mehrfami...</td>\n      <td>Diese Wohnung wurde neu saniert und ist wie fo...</td>\n      <td>NaN</td>\n      <td>NaN</td>\n      <td>NaN</td>\n      <td>NaN</td>\n      <td>NaN</td>\n      <td>Feb20</td>\n    </tr>\n    <tr>\n      <th>...</th>\n      <td>...</td>\n      <td>...</td>\n      <td>...</td>\n      <td>...</td>\n      <td>...</td>\n      <td>...</td>\n      <td>...</td>\n      <td>...</td>\n      <td>...</td>\n      <td>...</td>\n      <td>...</td>\n      <td>...</td>\n      <td>...</td>\n      <td>...</td>\n      <td>...</td>\n      <td>...</td>\n      <td>...</td>\n      <td>...</td>\n      <td>...</td>\n      <td>...</td>\n      <td>...</td>\n    </tr>\n    <tr>\n      <th>268845</th>\n      <td>Bayern</td>\n      <td>90.00</td>\n      <td>heat_pump</td>\n      <td>ONE_YEAR_FREE</td>\n      <td>NaN</td>\n      <td>False</td>\n      <td>True</td>\n      <td>0</td>\n      <td>2.74</td>\n      <td>10.0</td>\n      <td>...</td>\n      <td>Weilheim_Schongau_Kreis</td>\n      <td>Eberfing</td>\n      <td>Diese schöne, neuwertige Wohnung im Dachgescho...</td>\n      <td>Fliesen und Parkett. Sichtbarer Dachstuhl.</td>\n      <td>NaN</td>\n      <td>NaN</td>\n      <td>NaN</td>\n      <td>NaN</td>\n      <td>NaN</td>\n      <td>Feb20</td>\n    </tr>\n    <tr>\n      <th>268846</th>\n      <td>Hessen</td>\n      <td>220.00</td>\n      <td>gas_heating</td>\n      <td>NaN</td>\n      <td>NaN</td>\n      <td>False</td>\n      <td>True</td>\n      <td>12</td>\n      <td>6.49</td>\n      <td>NaN</td>\n      <td>...</td>\n      <td>Bergstraße_Kreis</td>\n      <td>Viernheim</td>\n      <td>Hier wird eine Wohnung im 2 Familienhaus angeb...</td>\n      <td>Parkett, Kamin, Badewanne&amp;Dusche\\nGroßer Balko...</td>\n      <td>NaN</td>\n      <td>NaN</td>\n      <td>2015.0</td>\n      <td>NaN</td>\n      <td>NaN</td>\n      <td>May19</td>\n    </tr>\n    <tr>\n      <th>268847</th>\n      <td>Hessen</td>\n      <td>220.00</td>\n      <td>central_heating</td>\n      <td>ONE_YEAR_FREE</td>\n      <td>NaN</td>\n      <td>False</td>\n      <td>True</td>\n      <td>21</td>\n      <td>2.90</td>\n      <td>40.0</td>\n      <td>...</td>\n      <td>Limburg_Weilburg_Kreis</td>\n      <td>Limburg_an_der_Lahn</td>\n      <td>gemütliche 4-Zimmer-Wohnung im Obergeschoss ei...</td>\n      <td>Böden: Wohn-/Schlafbereich = Laminat, Küche + ...</td>\n      <td>NaN</td>\n      <td>NaN</td>\n      <td>2019.0</td>\n      <td>NaN</td>\n      <td>NaN</td>\n      <td>Feb20</td>\n    </tr>\n    <tr>\n      <th>268848</th>\n      <td>Nordrhein_Westfalen</td>\n      <td>175.00</td>\n      <td>heat_pump</td>\n      <td>NaN</td>\n      <td>NaN</td>\n      <td>True</td>\n      <td>True</td>\n      <td>16</td>\n      <td>4.39</td>\n      <td>NaN</td>\n      <td>...</td>\n      <td>Köln</td>\n      <td>Dellbrück</td>\n      <td>Neubau Erstbezug, gehobener Standard, alle Ein...</td>\n      <td>Wände:\\nMaler­vlies, weiß gestrichen alter­nat...</td>\n      <td>40.00</td>\n      <td>NO_INFORMATION</td>\n      <td>2019.0</td>\n      <td>NaN</td>\n      <td>NaN</td>\n      <td>May19</td>\n    </tr>\n    <tr>\n      <th>268849</th>\n      <td>Hessen</td>\n      <td>315.00</td>\n      <td>central_heating</td>\n      <td>NaN</td>\n      <td>NaN</td>\n      <td>False</td>\n      <td>True</td>\n      <td>9</td>\n      <td>5.00</td>\n      <td>NaN</td>\n      <td>...</td>\n      <td>Frankfurt_am_Main</td>\n      <td>Sossenheim</td>\n      <td>Schöne, helle, gut geschnittene und teilmöblie...</td>\n      <td>Balkon, Keller, Fahrstuhl, Vollbad, Einbauküch...</td>\n      <td>NaN</td>\n      <td>NaN</td>\n      <td>NaN</td>\n      <td>NaN</td>\n      <td>NaN</td>\n      <td>Feb20</td>\n    </tr>\n  </tbody>\n</table>\n<p>268850 rows × 49 columns</p>\n</div>"
     },
     "execution_count": 3,
     "metadata": {},
     "output_type": "execute_result"
    }
   ],
   "source": [
    "df"
   ],
   "metadata": {
    "collapsed": false,
    "ExecuteTime": {
     "end_time": "2023-12-10T17:08:31.447328Z",
     "start_time": "2023-12-10T17:08:31.250918Z"
    }
   }
  },
  {
   "cell_type": "code",
   "execution_count": 4,
   "outputs": [
    {
     "name": "stdout",
     "output_type": "stream",
     "text": [
      "<class 'pandas.core.frame.DataFrame'>\n",
      "RangeIndex: 268850 entries, 0 to 268849\n",
      "Data columns (total 49 columns):\n",
      " #   Column                    Non-Null Count   Dtype  \n",
      "---  ------                    --------------   -----  \n",
      " 0   regio1                    268850 non-null  object \n",
      " 1   serviceCharge             261941 non-null  float64\n",
      " 2   heatingType               223994 non-null  object \n",
      " 3   telekomTvOffer            236231 non-null  object \n",
      " 4   telekomHybridUploadSpeed  45020 non-null   float64\n",
      " 5   newlyConst                268850 non-null  bool   \n",
      " 6   balcony                   268850 non-null  bool   \n",
      " 7   picturecount              268850 non-null  int64  \n",
      " 8   pricetrend                267018 non-null  float64\n",
      " 9   telekomUploadSpeed        235492 non-null  float64\n",
      " 10  totalRent                 228333 non-null  float64\n",
      " 11  yearConstructed           211805 non-null  float64\n",
      " 12  scoutId                   268850 non-null  int64  \n",
      " 13  noParkSpaces              93052 non-null   float64\n",
      " 14  firingTypes               211886 non-null  object \n",
      " 15  hasKitchen                268850 non-null  bool   \n",
      " 16  geo_bln                   268850 non-null  object \n",
      " 17  cellar                    268850 non-null  bool   \n",
      " 18  yearConstructedRange      211805 non-null  float64\n",
      " 19  baseRent                  268850 non-null  float64\n",
      " 20  houseNumber               197832 non-null  object \n",
      " 21  livingSpace               268850 non-null  float64\n",
      " 22  geo_krs                   268850 non-null  object \n",
      " 23  condition                 200361 non-null  object \n",
      " 24  interiorQual              156185 non-null  object \n",
      " 25  petsAllowed               154277 non-null  object \n",
      " 26  street                    268850 non-null  object \n",
      " 27  streetPlain               197837 non-null  object \n",
      " 28  lift                      268850 non-null  bool   \n",
      " 29  baseRentRange             268850 non-null  int64  \n",
      " 30  typeOfFlat                232236 non-null  object \n",
      " 31  geo_plz                   268850 non-null  int64  \n",
      " 32  noRooms                   268850 non-null  float64\n",
      " 33  thermalChar               162344 non-null  float64\n",
      " 34  floor                     217541 non-null  float64\n",
      " 35  numberOfFloors            171118 non-null  float64\n",
      " 36  noRoomsRange              268850 non-null  int64  \n",
      " 37  garden                    268850 non-null  bool   \n",
      " 38  livingSpaceRange          268850 non-null  int64  \n",
      " 39  regio2                    268850 non-null  object \n",
      " 40  regio3                    268850 non-null  object \n",
      " 41  description               249103 non-null  object \n",
      " 42  facilities                215926 non-null  object \n",
      " 43  heatingCosts              85518 non-null   float64\n",
      " 44  energyEfficiencyClass     77787 non-null   object \n",
      " 45  lastRefurbish             80711 non-null   float64\n",
      " 46  electricityBasePrice      46846 non-null   float64\n",
      " 47  electricityKwhPrice       46846 non-null   float64\n",
      " 48  date                      268850 non-null  object \n",
      "dtypes: bool(6), float64(18), int64(6), object(19)\n",
      "memory usage: 89.7+ MB\n"
     ]
    }
   ],
   "source": [
    "df.info()"
   ],
   "metadata": {
    "collapsed": false,
    "ExecuteTime": {
     "end_time": "2023-12-10T17:08:49.663876Z",
     "start_time": "2023-12-10T17:08:49.399154Z"
    }
   }
  },
  {
   "cell_type": "code",
   "execution_count": 5,
   "outputs": [
    {
     "data": {
      "text/plain": "0          840.0\n1            NaN\n2         1300.0\n3            NaN\n4          903.0\n           ...  \n268845     910.0\n268846    1150.0\n268847     930.0\n268848    1015.0\n268849       NaN\nName: totalRent, Length: 268850, dtype: float64"
     },
     "execution_count": 5,
     "metadata": {},
     "output_type": "execute_result"
    }
   ],
   "source": [
    "df['totalRent']"
   ],
   "metadata": {
    "collapsed": false,
    "ExecuteTime": {
     "end_time": "2023-12-10T17:18:49.232283Z",
     "start_time": "2023-12-10T17:18:49.222058Z"
    }
   }
  },
  {
   "cell_type": "code",
   "execution_count": null,
   "outputs": [],
   "source": [],
   "metadata": {
    "collapsed": false
   }
  }
 ],
 "metadata": {
  "kernelspec": {
   "display_name": "Python 3",
   "language": "python",
   "name": "python3"
  },
  "language_info": {
   "codemirror_mode": {
    "name": "ipython",
    "version": 2
   },
   "file_extension": ".py",
   "mimetype": "text/x-python",
   "name": "python",
   "nbconvert_exporter": "python",
   "pygments_lexer": "ipython2",
   "version": "2.7.6"
  }
 },
 "nbformat": 4,
 "nbformat_minor": 0
}
