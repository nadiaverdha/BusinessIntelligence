{
 "cells": [
  {
   "cell_type": "markdown",
   "source": [
    "### Libraries\n"
   ],
   "metadata": {
    "collapsed": false
   }
  },
  {
   "cell_type": "code",
   "execution_count": 4,
   "outputs": [],
   "source": [
    "import pandas as pd\n",
    "import matplotlib.pyplot as plt\n",
    "import numpy as np\n",
    "import seaborn as sns\n",
    "from datetime import datetime\n",
    "from sklearn.preprocessing import LabelEncoder\n",
    "from sklearn.preprocessing import StandardScaler\n",
    "from sklearn.model_selection import train_test_split\n",
    "from sklearn.linear_model import LinearRegression\n",
    "from sklearn.metrics import mean_squared_error\n",
    "from sklearn import metrics\n",
    "import numpy as np\n",
    "import warnings\n",
    "%matplotlib inline\n",
    "warnings.filterwarnings(\"ignore\", category=UserWarning)\n",
    "warnings.filterwarnings(\"ignore\", category=FutureWarning)"
   ],
   "metadata": {
    "collapsed": false,
    "ExecuteTime": {
     "end_time": "2024-01-06T12:48:39.018048Z",
     "start_time": "2024-01-06T12:48:39.009488Z"
    }
   }
  },
  {
   "cell_type": "markdown",
   "source": [
    "### Loading data"
   ],
   "metadata": {
    "collapsed": false
   }
  },
  {
   "cell_type": "code",
   "execution_count": 2,
   "outputs": [
    {
     "data": {
      "text/plain": "   Unnamed: 0  brand  model  color  year  car_age  price_in_euro  power_kw  \\\n0           0      0     14      9  1995       29           1300  0.302221   \n1           1      0      7      1  1995       29          24900  0.899137   \n2           2      0     18      1  1995       29           5900 -0.225286   \n3           3      0     18      1  1995       29           4900 -0.225286   \n4           4      0      7      9  1996       28          17950  0.080113   \n\n   power price ratio  transmission_type  fuel_type  fuel_consumption_l_100km  \\\n0           0.113846                  1          9                  2.448925   \n1           0.007671                  1          9                  0.509069   \n2           0.018644                  2          9                  0.509069   \n3           0.022449                  1          9                  1.762005   \n4           0.007354                  1          9                  0.633493   \n\n   fuel_consumption_g_km  mileage_in_km  \n0             260.000000       0.954583  \n1             162.294702       1.329361  \n2             162.294702       0.554396  \n3             225.000000       1.323009  \n4             162.294702       0.136766  ",
      "text/html": "<div>\n<style scoped>\n    .dataframe tbody tr th:only-of-type {\n        vertical-align: middle;\n    }\n\n    .dataframe tbody tr th {\n        vertical-align: top;\n    }\n\n    .dataframe thead th {\n        text-align: right;\n    }\n</style>\n<table border=\"1\" class=\"dataframe\">\n  <thead>\n    <tr style=\"text-align: right;\">\n      <th></th>\n      <th>Unnamed: 0</th>\n      <th>brand</th>\n      <th>model</th>\n      <th>color</th>\n      <th>year</th>\n      <th>car_age</th>\n      <th>price_in_euro</th>\n      <th>power_kw</th>\n      <th>power price ratio</th>\n      <th>transmission_type</th>\n      <th>fuel_type</th>\n      <th>fuel_consumption_l_100km</th>\n      <th>fuel_consumption_g_km</th>\n      <th>mileage_in_km</th>\n    </tr>\n  </thead>\n  <tbody>\n    <tr>\n      <th>0</th>\n      <td>0</td>\n      <td>0</td>\n      <td>14</td>\n      <td>9</td>\n      <td>1995</td>\n      <td>29</td>\n      <td>1300</td>\n      <td>0.302221</td>\n      <td>0.113846</td>\n      <td>1</td>\n      <td>9</td>\n      <td>2.448925</td>\n      <td>260.000000</td>\n      <td>0.954583</td>\n    </tr>\n    <tr>\n      <th>1</th>\n      <td>1</td>\n      <td>0</td>\n      <td>7</td>\n      <td>1</td>\n      <td>1995</td>\n      <td>29</td>\n      <td>24900</td>\n      <td>0.899137</td>\n      <td>0.007671</td>\n      <td>1</td>\n      <td>9</td>\n      <td>0.509069</td>\n      <td>162.294702</td>\n      <td>1.329361</td>\n    </tr>\n    <tr>\n      <th>2</th>\n      <td>2</td>\n      <td>0</td>\n      <td>18</td>\n      <td>1</td>\n      <td>1995</td>\n      <td>29</td>\n      <td>5900</td>\n      <td>-0.225286</td>\n      <td>0.018644</td>\n      <td>2</td>\n      <td>9</td>\n      <td>0.509069</td>\n      <td>162.294702</td>\n      <td>0.554396</td>\n    </tr>\n    <tr>\n      <th>3</th>\n      <td>3</td>\n      <td>0</td>\n      <td>18</td>\n      <td>1</td>\n      <td>1995</td>\n      <td>29</td>\n      <td>4900</td>\n      <td>-0.225286</td>\n      <td>0.022449</td>\n      <td>1</td>\n      <td>9</td>\n      <td>1.762005</td>\n      <td>225.000000</td>\n      <td>1.323009</td>\n    </tr>\n    <tr>\n      <th>4</th>\n      <td>4</td>\n      <td>0</td>\n      <td>7</td>\n      <td>9</td>\n      <td>1996</td>\n      <td>28</td>\n      <td>17950</td>\n      <td>0.080113</td>\n      <td>0.007354</td>\n      <td>1</td>\n      <td>9</td>\n      <td>0.633493</td>\n      <td>162.294702</td>\n      <td>0.136766</td>\n    </tr>\n  </tbody>\n</table>\n</div>"
     },
     "execution_count": 2,
     "metadata": {},
     "output_type": "execute_result"
    }
   ],
   "source": [
    "df = pd.read_csv('cleaned_data.csv')\n",
    "df.head(5)"
   ],
   "metadata": {
    "collapsed": false,
    "ExecuteTime": {
     "end_time": "2024-01-06T12:48:00.068550Z",
     "start_time": "2024-01-06T12:47:46.901893Z"
    }
   }
  },
  {
   "cell_type": "code",
   "execution_count": 3,
   "outputs": [],
   "source": [
    "X=df.drop(labels=['price_in_euro'],axis=1)\n",
    "y=df['price_in_euro']\n",
    "X_train,X_test,y_train,y_test=train_test_split(X,y,test_size=0.3,random_state=4)"
   ],
   "metadata": {
    "collapsed": false,
    "ExecuteTime": {
     "end_time": "2024-01-06T12:47:59.749477Z",
     "start_time": "2024-01-06T12:47:47.599599Z"
    }
   }
  },
  {
   "cell_type": "markdown",
   "source": [
    "### Building models\n"
   ],
   "metadata": {
    "collapsed": false
   }
  },
  {
   "cell_type": "code",
   "execution_count": 5,
   "outputs": [
    {
     "name": "stdout",
     "output_type": "stream",
     "text": [
      "MAE: 9741.560485846981\n",
      "RMSE: 26344.773456676452\n",
      "R2_Score:  0.47461334909514774\n"
     ]
    }
   ],
   "source": [
    "lm = LinearRegression()\n",
    "lm.fit(X_train,y_train)\n",
    "\n",
    "preds_lm_gdp = lm.predict(X_test)\n",
    "print('MAE:', metrics.mean_absolute_error(y_test, preds_lm_gdp))\n",
    "print('RMSE:', np.sqrt(metrics.mean_squared_error(y_test, preds_lm_gdp)))\n",
    "print('R2_Score: ', metrics.r2_score(y_test, preds_lm_gdp))"
   ],
   "metadata": {
    "collapsed": false,
    "ExecuteTime": {
     "end_time": "2024-01-06T12:48:57.881359Z",
     "start_time": "2024-01-06T12:48:56.746214Z"
    }
   }
  },
  {
   "cell_type": "code",
   "execution_count": 3,
   "outputs": [],
   "source": [],
   "metadata": {
    "collapsed": false,
    "ExecuteTime": {
     "end_time": "2024-01-06T12:47:59.750730Z",
     "start_time": "2024-01-06T12:47:47.703873Z"
    }
   }
  },
  {
   "cell_type": "code",
   "execution_count": 3,
   "outputs": [],
   "source": [],
   "metadata": {
    "collapsed": false,
    "ExecuteTime": {
     "end_time": "2024-01-06T12:47:59.751130Z",
     "start_time": "2024-01-06T12:47:47.711136Z"
    }
   }
  },
  {
   "cell_type": "code",
   "execution_count": 3,
   "outputs": [],
   "source": [],
   "metadata": {
    "collapsed": false,
    "ExecuteTime": {
     "end_time": "2024-01-06T12:47:59.751520Z",
     "start_time": "2024-01-06T12:47:47.716819Z"
    }
   }
  },
  {
   "cell_type": "code",
   "execution_count": 3,
   "outputs": [],
   "source": [],
   "metadata": {
    "collapsed": false,
    "ExecuteTime": {
     "end_time": "2024-01-06T12:47:59.751779Z",
     "start_time": "2024-01-06T12:47:47.723506Z"
    }
   }
  },
  {
   "cell_type": "code",
   "execution_count": 3,
   "outputs": [],
   "source": [],
   "metadata": {
    "collapsed": false,
    "ExecuteTime": {
     "end_time": "2024-01-06T12:47:59.752013Z",
     "start_time": "2024-01-06T12:47:47.728135Z"
    }
   }
  },
  {
   "cell_type": "code",
   "execution_count": 3,
   "outputs": [],
   "source": [],
   "metadata": {
    "collapsed": false,
    "ExecuteTime": {
     "end_time": "2024-01-06T12:47:59.752295Z",
     "start_time": "2024-01-06T12:47:47.734426Z"
    }
   }
  },
  {
   "cell_type": "code",
   "execution_count": 3,
   "outputs": [],
   "source": [],
   "metadata": {
    "collapsed": false,
    "ExecuteTime": {
     "end_time": "2024-01-06T12:47:59.752513Z",
     "start_time": "2024-01-06T12:47:47.741951Z"
    }
   }
  },
  {
   "cell_type": "code",
   "execution_count": null,
   "outputs": [],
   "source": [],
   "metadata": {
    "collapsed": false
   }
  }
 ],
 "metadata": {
  "kernelspec": {
   "display_name": "Python 3",
   "language": "python",
   "name": "python3"
  },
  "language_info": {
   "codemirror_mode": {
    "name": "ipython",
    "version": 2
   },
   "file_extension": ".py",
   "mimetype": "text/x-python",
   "name": "python",
   "nbconvert_exporter": "python",
   "pygments_lexer": "ipython2",
   "version": "2.7.6"
  }
 },
 "nbformat": 4,
 "nbformat_minor": 0
}
